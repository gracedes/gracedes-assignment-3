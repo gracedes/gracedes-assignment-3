{
 "cells": [
  {
   "cell_type": "markdown",
   "id": "245217cc",
   "metadata": {},
   "source": [
    "# Assignment: SVD Preprocessing on MNIST with Logistic Regression"
   ]
  },
  {
   "cell_type": "markdown",
   "id": "deffa444",
   "metadata": {},
   "source": [
    "## Instructions:\n",
    "In this assignment, you will apply **Singular Value Decomposition (SVD)** as a preprocessing step to the **MNIST dataset** and train a **logistic regression classifier**. You will compare the model performance and training time when using different levels of SVD for dimensionality reduction.\n",
    "\n",
    "In this assignment, you will need to:\n",
    "1. Load the MNIST dataset and normalize it.\n",
    "2. Perform SVD and reduce the dimensions of the data.\n",
    "3. Train a logistic regression model on the original and SVD-reduced data.\n",
    "4. Measure and compare the training time and accuracy of the model with varying SVD components.\n",
    "5. Plot the results and analyze how SVD impacts the performance and efficiency of the model.\n",
    "\n",
    "***\n",
    "Your tasks include:\n",
    "1. Implement SVD algorithm. You are not allowed to directly use SVD implemented by other packages, but you may use functions in NumPy. (Part 2)\n",
    "2. Explore the accuracy and time performance from different numbers of SVD components. (Part 4)\n",
    "3. Visualize the accuracy, time performance and top 5 singular vectors in the dataset, analyze and explain which number of SVD component looks best to you? (Part 4,5&6) Hint: singular vectors should be reshaped to 28x28 images for visualization.\n",
    "***\n",
    "**Note that you may not import any other function or package.** Let's get started!\n"
   ]
  },
  {
   "cell_type": "markdown",
   "id": "b3e10cb3",
   "metadata": {},
   "source": [
    "## Part 1: Load the MNIST dataset and preprocess the data"
   ]
  },
  {
   "cell_type": "code",
   "execution_count": 2,
   "id": "79f2d907",
   "metadata": {},
   "outputs": [
    {
     "name": "stdout",
     "output_type": "stream",
     "text": [
      "Loading MNIST dataset...\n"
     ]
    },
    {
     "name": "stderr",
     "output_type": "stream",
     "text": [
      "C:\\Users\\kdesr\\AppData\\Local\\Packages\\PythonSoftwareFoundation.Python.3.10_qbz5n2kfra8p0\\LocalCache\\local-packages\\Python310\\site-packages\\sklearn\\datasets\\_openml.py:1022: FutureWarning: The default value of `parser` will change from `'liac-arff'` to `'auto'` in 1.4. You can set `parser='auto'` to silence this warning. Therefore, an `ImportError` will be raised from 1.4 if the dataset is dense and pandas is not installed. Note that the pandas parser may return different data types. See the Notes Section in fetch_openml's API doc for details.\n",
      "  warn(\n"
     ]
    }
   ],
   "source": [
    "import numpy as np\n",
    "import matplotlib.pyplot as plt\n",
    "import time\n",
    "from sklearn.linear_model import LogisticRegression\n",
    "from sklearn.model_selection import train_test_split\n",
    "from sklearn.datasets import fetch_openml\n",
    "from sklearn.metrics import accuracy_score, classification_report\n",
    "\n",
    "# Load MNIST dataset\n",
    "print(\"Loading MNIST dataset...\")\n",
    "mnist = fetch_openml('mnist_784', version=1)\n",
    "X = mnist.data\n",
    "y = mnist.target\n",
    "\n",
    "# Normalize the data\n",
    "X = X / 255.0\n",
    "\n",
    "# Split into training and test sets\n",
    "X_train, X_test, y_train, y_test = train_test_split(X, y, test_size=0.2, random_state=42)\n"
   ]
  },
  {
   "cell_type": "markdown",
   "id": "28b8572d",
   "metadata": {},
   "source": [
    "## Part 2: Implement SVD for Dimensionality Reduction"
   ]
  },
  {
   "cell_type": "code",
   "execution_count": 3,
   "id": "b3bd59f3",
   "metadata": {},
   "outputs": [],
   "source": [
    "def apply_svd_custom(X_train, X_test, n_components):\n",
    "    U, Sigma, V = svd(X_train)\n",
    "    X_train_reduced = np.dot(U[:, :n_components], np.dot(Sigma[:n_components, :n_components], V[:n_components, :]))\n",
    "    \n",
    "    U, Sigma, V = svd(X_test)\n",
    "    X_test_reduced = np.dot(U[:, :n_components], np.dot(Sigma[:n_components, :n_components], V[:n_components, :]))\n",
    "\n",
    "    return X_train_reduced, X_test_reduced\n",
    "    \n",
    "def svd(A):    \n",
    "    AtA = np.dot(A.T, A)                                            # find A^T * A\n",
    "    eigvals, V = np.linalg.eigh(AtA)                                # find eigenvalues and eigenvectors\n",
    "\n",
    "    idx = np.argsort(eigvals)[::-1]                                 # sort in descending order\n",
    "    eigvals = np.absolute(eigvals[idx])\n",
    "    V = V[:, idx]\n",
    "\n",
    "    singular_values = np.sqrt(eigvals)                              # compute singular values\n",
    "\n",
    "    U = np.dot(A, V)                                                # construct a normalized U\n",
    "    U_normalized = np.zeros(U.shape)\n",
    "    for i in range(U.shape[1]):\n",
    "        if np.linalg.norm(U[:, i]) == 0:\n",
    "            U_normalized[:, i] = U[:, i]\n",
    "        else:\n",
    "            U_normalized[:, i] = U[:, i] / np.linalg.norm(U[:, i])\n",
    "\n",
    "    Sigma = np.zeros(A.shape)                                       # construct sigma\n",
    "    for i in range(len(singular_values)):\n",
    "        Sigma[i, i] = singular_values[i]\n",
    "\n",
    "    return U_normalized, Sigma, V                                   # return U, sigma, V"
   ]
  },
  {
   "cell_type": "markdown",
   "id": "eb2a7a9d",
   "metadata": {},
   "source": [
    "## Part 3: Train Logistic Regression and Measure Performance"
   ]
  },
  {
   "cell_type": "code",
   "execution_count": 4,
   "id": "dbfc0b10",
   "metadata": {},
   "outputs": [],
   "source": [
    "# Function to train logistic regression and track training time\n",
    "def train_logistic_regression(X_train, y_train, X_test, y_test):\n",
    "    model = LogisticRegression(max_iter=1000, solver='saga', random_state=42, multi_class='multinomial')\n",
    "    \n",
    "    # Measure training time\n",
    "    start_time = time.time()\n",
    "    model.fit(X_train, y_train)\n",
    "    training_time = time.time() - start_time\n",
    "    \n",
    "    y_pred = model.predict(X_test)\n",
    "    accuracy = accuracy_score(y_test, y_pred)\n",
    "    \n",
    "    return accuracy, training_time\n"
   ]
  },
  {
   "cell_type": "markdown",
   "id": "2e557a05",
   "metadata": {},
   "source": [
    "## Part 4: Experiment with Different Levels of SVD\n",
    "\n",
    "Now, apply SVD with varying numbers of components and observe how the dimensionality reduction impacts the model's performance. Record both the accuracy and training time for each number of components.\n"
   ]
  },
  {
   "cell_type": "code",
   "execution_count": 9,
   "id": "3a460725",
   "metadata": {},
   "outputs": [
    {
     "name": "stdout",
     "output_type": "stream",
     "text": [
      "Training models with different levels of SVD preprocessing...\n",
      "Applying custom SVD with 5 components...\n",
      "SVD components: 5, Accuracy: 0.1143, Training time: 17.5576 seconds\n",
      "Applying custom SVD with 10 components...\n",
      "SVD components: 10, Accuracy: 0.0909, Training time: 21.1798 seconds\n",
      "Applying custom SVD with 25 components...\n",
      "SVD components: 25, Accuracy: 0.1195, Training time: 43.1279 seconds\n",
      "Applying custom SVD with 50 components...\n",
      "SVD components: 50, Accuracy: 0.1091, Training time: 109.2557 seconds\n",
      "Applying custom SVD with 100 components...\n",
      "SVD components: 100, Accuracy: 0.1119, Training time: 232.1222 seconds\n",
      "Applying custom SVD with 250 components...\n",
      "SVD components: 250, Accuracy: 0.1079, Training time: 326.5073 seconds\n"
     ]
    }
   ],
   "source": [
    "svd_components = [5, 10, 25, 50, 100, 250]  # You need to decide what number to search...\n",
    "\n",
    "# Store the results\n",
    "results = [[],[],[]]\n",
    "\n",
    "print(\"Training models with different levels of SVD preprocessing...\")\n",
    "for n_components in svd_components:\n",
    "    print(f\"Applying custom SVD with {n_components} components...\")\n",
    "    \n",
    "    # Apply SVD to the training and test sets\n",
    "    X_train_svd, X_test_svd = apply_svd_custom(X_train, X_test, n_components)\n",
    "    \n",
    "    # Train the logistic regression model and get accuracy and training time\n",
    "    accuracy, training_time = train_logistic_regression(X_train_svd, y_train, X_test_svd, y_test)\n",
    "        \n",
    "    print(f\"SVD components: {n_components}, Accuracy: {accuracy:.4f}, Training time: {training_time:.4f} seconds\")\n",
    "    results[0].append(n_components)\n",
    "    results[1].append(accuracy)\n",
    "    results[2].append(training_time)"
   ]
  },
  {
   "cell_type": "markdown",
   "id": "ea7aca12",
   "metadata": {},
   "source": [
    "## Part 5: Visualize and Analyze the Results\n",
    "\n",
    "Finally, plot the accuracy, training time as a function of the number of SVD components, and top 5 singular vectors. This will help you understand the trade-off between dimensionality reduction, accuracy, and model training time, and how SVD generally works. Hint: singular vectors should be reshaped to 28x28 images for visualization.\n"
   ]
  },
  {
   "cell_type": "code",
   "execution_count": 6,
   "id": "92ef0497",
   "metadata": {},
   "outputs": [],
   "source": [
    "## Your implementation here...\n",
    "## You may add necessary lines in Part 4 to access data for visualization"
   ]
  },
  {
   "cell_type": "markdown",
   "id": "4210569a",
   "metadata": {},
   "source": [
    "## Part 6: Analyze / Conclusion \n",
    "\n",
    "YOUR ANSWER: "
   ]
  },
  {
   "cell_type": "code",
   "execution_count": null,
   "id": "d47f043c",
   "metadata": {},
   "outputs": [],
   "source": []
  }
 ],
 "metadata": {
  "kernelspec": {
   "display_name": "Python 3",
   "language": "python",
   "name": "python3"
  },
  "language_info": {
   "codemirror_mode": {
    "name": "ipython",
    "version": 3
   },
   "file_extension": ".py",
   "mimetype": "text/x-python",
   "name": "python",
   "nbconvert_exporter": "python",
   "pygments_lexer": "ipython3",
   "version": "3.10.11"
  }
 },
 "nbformat": 4,
 "nbformat_minor": 5
}
